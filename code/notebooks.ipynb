{
 "cells": [
  {
   "cell_type": "code",
   "execution_count": 2,
   "metadata": {},
   "outputs": [],
   "source": [
    "data = {}\n",
    "\n",
    "with open('../word2vec/W2V_150.txt', 'r') as file:\n",
    "    for line in file:\n",
    "        line = line.strip()\n",
    "        parts = line.split()\n",
    "        if len(parts) > 1:\n",
    "            word = parts[0]  \n",
    "            embeddings = list(map(float, parts[1:]))  \n",
    "            data[word] = embeddings\n"
   ]
  },
  {
   "cell_type": "code",
   "execution_count": 3,
   "metadata": {},
   "outputs": [],
   "source": [
    "import numpy as np\n",
    "\n",
    "def similarity(data, word1 : str, word2 : str):\n",
    "    if word1 not in data or word2 not in data:\n",
    "        raise RuntimeError(\"One or both word(s) not in the data\")\n",
    "    \n",
    "    vec1 = np.array(data[word1])\n",
    "    vec2 = np.array(data[word2])\n",
    "    if len(vec1) != len(vec2):\n",
    "        raise RuntimeError(\"Could not calculate cuz vectors doesnt have the sane length\")\n",
    "    \n",
    "    dot_product = np.dot(vec1, vec2)\n",
    "\n",
    "    normalize_vec1 = np.linalg.norm(vec1)\n",
    "    normalize_vec2 = np.linalg.norm(vec2)\n",
    "\n",
    "    return dot_product/(normalize_vec1 * normalize_vec2)\n",
    "\n",
    "    "
   ]
  },
  {
   "cell_type": "code",
   "execution_count": 4,
   "metadata": {},
   "outputs": [],
   "source": [
    "def KNN(data, k, word: str):\n",
    "    if word not in data:\n",
    "        raise ValueError(\"your input is not in data\")\n",
    "\n",
    "    similar_list = []\n",
    "    \n",
    "    for w in data:\n",
    "        if w != word:  \n",
    "            sim_score = similarity(data, word, w)\n",
    "            similar_list.append((w, sim_score))\n",
    "    \n",
    "    similar_list.sort(key=lambda x: x[1], reverse=True)\n",
    "    return [w for w, score in similar_list[:k]]"
   ]
  },
  {
   "cell_type": "code",
   "execution_count": 5,
   "metadata": {},
   "outputs": [
    {
     "name": "stdout",
     "output_type": "stream",
     "text": [
      "['các', 'một_số', 'một_vài', 'một', 'nhiều', 'hàng_loạt', 'vô_khối', 'nhứng', 'mọi', 'có_rất_nhiều']\n"
     ]
    }
   ],
   "source": [
    "print(KNN(data, 10, \"những\"))"
   ]
  },
  {
   "cell_type": "code",
   "execution_count": null,
   "metadata": {},
   "outputs": [],
   "source": []
  }
 ],
 "metadata": {
  "kernelspec": {
   "display_name": ".venv",
   "language": "python",
   "name": "python3"
  },
  "language_info": {
   "codemirror_mode": {
    "name": "ipython",
    "version": 3
   },
   "file_extension": ".py",
   "mimetype": "text/x-python",
   "name": "python",
   "nbconvert_exporter": "python",
   "pygments_lexer": "ipython3",
   "version": "3.12.3"
  }
 },
 "nbformat": 4,
 "nbformat_minor": 2
}
